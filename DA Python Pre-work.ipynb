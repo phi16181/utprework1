{
 "cells": [
  {
   "cell_type": "markdown",
   "metadata": {},
   "source": [
    "<img src=\"logo.png\">"
   ]
  },
  {
   "cell_type": "markdown",
   "metadata": {},
   "source": [
    "Welcome to the Data Analytics and Big Data certificate program at the University of Texas -  Austin!  We are very excited to have you in this program and we are here to help you succeed so don't hesitate to reach out to us if you need any help getting started!"
   ]
  },
  {
   "cell_type": "markdown",
   "metadata": {},
   "source": [
    "My name is Benjamin Manning and I am one of the senior mentors in the program.   I have created this document to not only give you some preliminary information about the program, but also guide you in the necessary pre-work we recommend you complete prior to starting the program. If you need me at anytime during this prework, please email me directly at: <a href=\"mailto:ben.manning@xolcorp.com\" target=\"_top\">Benjamin Manning</a>"
   ]
  },
  {
   "cell_type": "markdown",
   "metadata": {},
   "source": [
    "Very soon you will be receiving a welcome email from me with some important dates  and procedures within it.  Keep an eye out for this email; if you have not received it a few days prior to the start date please let me know. That's all for now,  so let's get started on the necessary pre-work! "
   ]
  },
  {
   "cell_type": "markdown",
   "metadata": {},
   "source": [
    "<b>Pre-work</b>"
   ]
  },
  {
   "cell_type": "markdown",
   "metadata": {},
   "source": [
    "In order for you to be successful in the program,  you need to understand how to utilize the Python programming language for data science and data analytics.  We’ll be using tools like R as well, but we’ll be starting our journey with Python so we’ve provided some resources to help you get started early. "
   ]
  },
  {
   "cell_type": "markdown",
   "metadata": {},
   "source": [
    "It is very important for you to understand that we are not using the Python programming language in the same manner that a software engineer would.  In other words,  you are not learning to be programmers in the certificate program,  but rather how to use Python to solve real-world data analytics and data science problems. We most certainly will be writing code,  but not in the same large-scale manor as someone that would be developing a piece of software would;  you'll begin to see some of this very soon in this pre-work and we will be following this same procedure throughout the first two courses of the program."
   ]
  },
  {
   "cell_type": "markdown",
   "metadata": {},
   "source": [
    "<img src=\"jup.png\" width=\"400\" height=\"200\" align=\"center\"/>"
   ]
  },
  {
   "cell_type": "markdown",
   "metadata": {},
   "source": [
    "One of the main tools we will be using during the pre-work is called a Jupyter notebook.  As a matter of fact,  you are reading this very work in a Jupyter notebook! Click on the link below to learn more about this important tool!"
   ]
  },
  {
   "cell_type": "markdown",
   "metadata": {},
   "source": [
    "<img src=\"jupy1.png\" width=\"600\" height=\"400\" align=\"center\"/><a href=\"https://www.youtube.com/watch?v=q_BzsPxwLOE&feature=emb_logo\" target=\"new\"><center>Click here for video</center></a>"
   ]
  },
  {
   "cell_type": "markdown",
   "metadata": {},
   "source": [
    "<b>Environment Setup</b>"
   ]
  },
  {
   "cell_type": "markdown",
   "metadata": {},
   "source": [
    "Obviously, we will also be using Python extensively, but chances are you don't have python installed on your own machine just yet so we will be using a remote environment called Google Collaboratory to provide access to Python for now. In Course One, you’ll be setting up your own working environment so dont worry too much about doing so locally just yet. We've included an introduction to Google Collaboratory video for you below. Feel free to watch it and learn about Google Colab, but you dont need to view all the way to the end to hear about Tensorflow as that is a little beyond what youre ready to do just yet!"
   ]
  },
  {
   "cell_type": "markdown",
   "metadata": {},
   "source": [
    "<center><a href=\"https://www.youtube.com/watch?v=inN8seMm7UI\" target=\"new\"><img src=\"colab4.png\">Click here for video</a></center>"
   ]
  },
  {
   "cell_type": "markdown",
   "metadata": {},
   "source": [
    "<b>Lets get started</b>"
   ]
  },
  {
   "cell_type": "markdown",
   "metadata": {},
   "source": [
    "To get started with Colab, just open a browser（I recommend Google Chrome or Firefox), and input the following URL: https://colab.research.google.com/ You will see the following webpage:"
   ]
  },
  {
   "cell_type": "markdown",
   "metadata": {},
   "source": [
    "<img src=\"colab1.png\">"
   ]
  },
  {
   "cell_type": "markdown",
   "metadata": {},
   "source": [
    "Just choose to create a new Python 3 notebook. Then you can see a fully configured Python running environment."
   ]
  },
  {
   "cell_type": "markdown",
   "metadata": {},
   "source": [
    "<img src=\"colab2.png\">"
   ]
  },
  {
   "cell_type": "markdown",
   "metadata": {},
   "source": [
    "Although you did not go through any installation processes, it still contains almost all the modules you need for data science analysis. These tools include but are not limited to Numpy, Scipy, Pandas, etc. Even deep learning frameworks, such as Tensorflow, Keras and Pytorch are also included."
   ]
  },
  {
   "cell_type": "markdown",
   "metadata": {},
   "source": [
    "<b>Help!<b>"
   ]
  },
  {
   "cell_type": "markdown",
   "metadata": {},
   "source": [
    "As a beginning Python user it is very common for students to ask for help so knowing where to do so and how to do so is vital to your success.  In this program, we have provided many different opportunities and ways for you to accomplish this,  but remember,  knowing how to solve problems on your own is key to being an excellent data scientist! After the program begins, you will have access to one another,  access to numerous resources and access to all of the mentors,  so there will be various avenues for support."
   ]
  },
  {
   "cell_type": "markdown",
   "metadata": {},
   "source": [
    "Since this document is focusing on pre work before the program actually begins,  let's take a look at how you can use a very common resource to get help."
   ]
  },
  {
   "cell_type": "markdown",
   "metadata": {},
   "source": [
    "First things first: Start assesmbling a good list of references; these will help you when you are truly stuck and need a quick definition or directions on 'how to use' something. Here are three good starting points for Python:\n",
    "\n",
    "1. <a href=\"https://docs.python.org/3/reference/\">The Python Language Reference</a>\n",
    "2. <a href=\"http://www.oreilly.com/programming/free/files/a-whirlwind-tour-of-python.pdf\">A Whirlwind Tour of Python</a>\n",
    "3. <a href=\"https://jakevdp.github.io/PythonDataScienceHandbook/\">Data Science Handbook</a>"
   ]
  },
  {
   "cell_type": "markdown",
   "metadata": {},
   "source": [
    "Another excellent of getting help is to ask for it online! You do this easily and clearly by sharing your notebook with others using the 'share' button at the top of the screen."
   ]
  },
  {
   "cell_type": "markdown",
   "metadata": {},
   "source": [
    "<img src=\"colab3.png\">"
   ]
  },
  {
   "cell_type": "markdown",
   "metadata": {},
   "source": [
    "Then, choose “copy link”, and the link will be saved in your clipboard. Put the link and the problem description together, and post them on Python’s official forum or a discussion board like \n",
    "<a href=\"https://stackoverflow.com\">StackOverFlow</a>\n",
    "\n",
    "People just need to click the link and they will be able to see all your codes and error information, and even better, they can run the copy of your notebook easily.\n",
    "\n",
    "In fact, Google Colab provides you a very useful function to find possible answers. Whenever you encounter an error message, you can see a “Search Stack Overflow” button."
   ]
  },
  {
   "cell_type": "markdown",
   "metadata": {},
   "source": [
    "For more information on using Google Colab for learning Python, please visit the following: <a href=\"https://towardsdatascience.com/how-to-practice-python-with-google-colab-45fc6b7d118b\">How to Practice Python Programming with Google Colab?</a>"
   ]
  },
  {
   "cell_type": "markdown",
   "metadata": {},
   "source": [
    "<b>Ok, lets dive into the basics of Python!</b>"
   ]
  },
  {
   "cell_type": "markdown",
   "metadata": {},
   "source": [
    "<a href=\"page2.ipyng\">Next page</a>"
   ]
  }
 ],
 "metadata": {
  "kernelspec": {
   "display_name": "Python 3",
   "language": "python",
   "name": "python3"
  },
  "language_info": {
   "codemirror_mode": {
    "name": "ipython",
    "version": 3
   },
   "file_extension": ".py",
   "mimetype": "text/x-python",
   "name": "python",
   "nbconvert_exporter": "python",
   "pygments_lexer": "ipython3",
   "version": "3.7.3"
  }
 },
 "nbformat": 4,
 "nbformat_minor": 2
}
